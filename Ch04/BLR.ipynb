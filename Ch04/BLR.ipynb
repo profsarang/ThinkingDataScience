{
  "nbformat": 4,
  "nbformat_minor": 5,
  "metadata": {
    "kernelspec": {
      "display_name": "Python 3",
      "language": "python",
      "name": "python3"
    },
    "language_info": {
      "codemirror_mode": {
        "name": "ipython",
        "version": 3
      },
      "file_extension": ".py",
      "mimetype": "text/x-python",
      "name": "python",
      "nbconvert_exporter": "python",
      "pygments_lexer": "ipython3",
      "version": "3.8.8"
    },
    "colab": {
      "provenance": [],
      "collapsed_sections": []
    }
  },
  "cells": [
    {
      "cell_type": "markdown",
      "metadata": {
        "id": "64ae3f2e"
      },
      "source": [
        "# Bayesian Linear Regression"
      ],
      "id": "64ae3f2e"
    },
    {
      "cell_type": "markdown",
      "metadata": {
        "id": "ac2e0c85"
      },
      "source": [
        "Regression is a machine learning task to call continous values, as compared to classification, that is used to predict dicrete values. When we hear the word \"Bayesian\", we must think of Naive Bayes. However, Bayesian principles can also be used to perform regression.  "
      ],
      "id": "ac2e0c85"
    },
    {
      "cell_type": "markdown",
      "metadata": {
        "id": "6d88f156"
      },
      "source": [
        "First of all, we must understand that Bayesian is just an approach to defining and estimating statistical models. Bayesian Regression can be very useful when we have insufficient data in the dataset or the data is poorly distributed. Bayesian regression methods are very powerful, as they not only provide us with point estimates of regression parameters, but rather deliver an entire distribution over these parameters. It allows you to put a prior on the coefficients and on the noise so that in the absence of data, the priors can take over. More importantly, you can ask Bayesian linear regression which parts (if any) of its fit to the data is it confident about, and which parts are very uncertain (perhaps based entirely on the priors). "
      ],
      "id": "6d88f156"
    },
    {
      "cell_type": "markdown",
      "metadata": {
        "id": "cd89af39"
      },
      "source": [
        "BLR is the Bayesian approach to linear regression analysis.The ambiguity measure could be the standard deviation of the predictions of all the models, something that point estimators will not provide by default. Knowing what the model doesn't know helps to make AI more understandable. In regression analysis, we look at the conditional distribution of the response variable at different levels of a predictor variable."
      ],
      "id": "cd89af39"
    },
    {
      "cell_type": "markdown",
      "metadata": {
        "id": "eLI3C45b2Kw4"
      },
      "source": [
        "### References\n",
        "https://dida.do/blog/what-is-bayesian-linear-regression"
      ],
      "id": "eLI3C45b2Kw4"
    },
    {
      "cell_type": "markdown",
      "metadata": {
        "id": "b33bd07e"
      },
      "source": [
        "###### Response variable\n",
        "- Also called “dependent” or “outcome” variable\n",
        "- What we want to explain or predict\n",
        "- In simple linear regression, response variable is continuous\n",
        "\n",
        "###### Predictor variables\n",
        "- Also called “independent” variables or “covariates”\n",
        "- In simple linear regression, predictor variable usually is also continuous"
      ],
      "id": "b33bd07e"
    },
    {
      "cell_type": "markdown",
      "metadata": {
        "id": "Xy1ZuzSW4NUn"
      },
      "source": [
        "### References\n",
        "https://online.stat.psu.edu/stat500/book/export/html/478"
      ],
      "id": "Xy1ZuzSW4NUn"
    },
    {
      "cell_type": "markdown",
      "metadata": {
        "id": "42587987"
      },
      "source": [
        "### Understanding Linear Functions\n",
        "![blr3.PNG](data:image/png;base64,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)\n",
        "\n",
        "* Y is a response variable that is a linear function of the predictor variable\n",
        "* β0: intercept; the value of Y when X=0\n",
        "* β1: slope; how much Y changes when X increases by 1 unit"
      ],
      "id": "42587987"
    },
    {
      "cell_type": "markdown",
      "metadata": {
        "id": "Bd1qEYtl4EqZ"
      },
      "source": [
        "### References\n",
        "https://online.stat.psu.edu/stat200/book/export/html/244"
      ],
      "id": "Bd1qEYtl4EqZ"
    },
    {
      "cell_type": "markdown",
      "metadata": {
        "id": "5a6f140d"
      },
      "source": [
        "The aim of Bayesian Linear Regression is not to find the model parameters, but rather to find the ‘posterior‘ distribution for the model parameters. Not just the output y, but the model parameters are also assumed to come from a distribution. The expression for Posterior is :"
      ],
      "id": "5a6f140d"
    },
    {
      "cell_type": "markdown",
      "metadata": {
        "id": "bbab4746"
      },
      "source": [
        "![blr1.PNG](data:image/png;base64,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)"
      ],
      "id": "bbab4746"
    },
    {
      "cell_type": "markdown",
      "metadata": {
        "id": "c8801366"
      },
      "source": [
        "Where,\n",
        "* Posterior: It is the probability of an event to occur; say, H, given that another event; say, E has already occurred. i.e., P(H | E).\n",
        "\n",
        "* Prior: It is the probability of an event H has occurred prior to another event. i.e., P(H)\n",
        "\n",
        "* Likelihood: It is a likelihood function in which some parameter variable is marginalized."
      ],
      "id": "c8801366"
    },
    {
      "cell_type": "markdown",
      "metadata": {
        "id": "PbwkhAMoz4rK"
      },
      "source": [
        "## References\n",
        "https://www.geeksforgeeks.org/implementation-of-bayesian-regression/"
      ],
      "id": "PbwkhAMoz4rK"
    },
    {
      "cell_type": "markdown",
      "metadata": {
        "id": "ce84959e"
      },
      "source": [
        "This is actually equivalent to the Bayes Theorem which says,"
      ],
      "id": "ce84959e"
    },
    {
      "cell_type": "markdown",
      "metadata": {
        "id": "10cedb10"
      },
      "source": [
        "![blr2.PNG](data:image/png;base64,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)"
      ],
      "id": "10cedb10"
    },
    {
      "cell_type": "markdown",
      "metadata": {
        "id": "22c294c9"
      },
      "source": [
        "where A and B are events, \n",
        "\n",
        "* P(A) is the probability of event A occurring, also known as the prior probability.\n",
        "\n",
        "* P(A|B) is the conditional probability of event A occurring, given that B is true. This is the posterior\n",
        "probability due to its variable dependency on B. This assumes that event A is not independent of B.\n",
        "\n",
        "* P(B|A) is the conditional probability of event B occurring given that A is true.\n",
        "\n",
        "* P(B) is the probability of event B occurring.\n"
      ],
      "id": "22c294c9"
    },
    {
      "cell_type": "markdown",
      "metadata": {
        "id": "GH7M8hpR1MYq"
      },
      "source": [
        "## References\n",
        "https://brunaw.com/phd/bayes-regression/report.pdf"
      ],
      "id": "GH7M8hpR1MYq"
    },
    {
      "cell_type": "markdown",
      "metadata": {
        "id": "bae78dde"
      },
      "source": [
        "## Model of Bayesian Regression\n",
        "For Bayesian Linear regression we used model of Bayesian Ridge Regression Which is available in Scikit-learn"
      ],
      "id": "bae78dde"
    },
    {
      "cell_type": "code",
      "metadata": {
        "id": "KS6A7-Za2_93"
      },
      "source": [
        "## Bayesian Ridge regression Model:-\n",
        "#class sklearn.linear_model.BayesianRidge(*, n_iter=300, tol=0.001, alpha_1=1e-06, alpha_2=1e-06, lambda_1=1e-06, lambda_2=1e-06, alpha_init=None, lambda_init=None, compute_score=False, fit_intercept=True, normalize=False, copy_X=True, verbose=False)   "
      ],
      "id": "KS6A7-Za2_93",
      "execution_count": 3,
      "outputs": []
    },
    {
      "cell_type": "markdown",
      "metadata": {
        "id": "dd9e6345"
      },
      "source": [
        "### Parameters Description:-\n",
        "\n",
        "> n_iter:Maximum number of iterations. Should be greater than or equal to 1.\n",
        "\n",
        "> alpha_1 : shape parameter for the Gamma distribution prior over the alpha parameter.\n",
        "\n",
        "> alpha_2 : inverse scale parameter (rate parameter) for the Gamma distribution prior over the alpha parameter.\n",
        "\n",
        "> lambda_1 : shape parameter for the Gamma distribution prior over the lambda parameter.\n",
        "\n",
        "> lambda_2 : inverse scale parameter (rate parameter) for the Gamma distribution prior over the lambda parameter.\n",
        "\n",
        "\n",
        " "
      ],
      "id": "dd9e6345"
    },
    {
      "cell_type": "markdown",
      "metadata": {
        "id": "7hgGnWA-0sRc"
      },
      "source": [
        "## References\n",
        "https://scikit-learn.org/stable/modules/generated/sklearn.linear_model.BayesianRidge.html"
      ],
      "id": "7hgGnWA-0sRc"
    },
    {
      "cell_type": "markdown",
      "metadata": {
        "id": "5edc505d"
      },
      "source": [
        "## Advantages of Bayesian Linear regression\n",
        "* By the Bayesian processing, you recover the whole range of inferential solutions, rather than a point estimate and a confidence interval as in classical regression. \n",
        "\n",
        "* We get a fully mathematically founded approach where you can easily incorporate prior knowledge about the problem domain.\n",
        "\n",
        "* It works well when you have little data and will give you more than just the prediction."
      ],
      "id": "5edc505d"
    },
    {
      "cell_type": "markdown",
      "metadata": {
        "id": "17d0c8e5"
      },
      "source": [
        "## Disadvantages of Bayesian Linear regression\n",
        "* It’s not great when you don’t have a regression problem, or if a linear model does not work well, or if you do not want a Bayesian approach.\n",
        "\n",
        "* Finding a good prior can be hard and when you have a lot of data and only care about learning a single model instead of a distribution over models, we wi end up with essentially the same model as other types of linear regression. "
      ],
      "id": "17d0c8e5"
    },
    {
      "cell_type": "markdown",
      "metadata": {
        "id": "06156a56"
      },
      "source": [
        "## Real World Application of Bayesian Linear Regression\n",
        "\n",
        "* forecasting retail sales with the SAP Unified Demand Forecast (UDF).\n",
        "\n",
        "* Biomedical research"
      ],
      "id": "06156a56"
    },
    {
      "cell_type": "markdown",
      "metadata": {
        "id": "3_pZRZo3SCnm"
      },
      "source": [
        "## **Implementation Of Bayesian Regression**"
      ],
      "id": "3_pZRZo3SCnm"
    },
    {
      "cell_type": "markdown",
      "metadata": {
        "id": "ZEnINeEWNvBE"
      },
      "source": [
        "### Importing Libraries"
      ],
      "id": "ZEnINeEWNvBE"
    },
    {
      "cell_type": "code",
      "metadata": {
        "id": "mdsXIMsKNyQE"
      },
      "source": [
        "import warnings # To hide the warnings\n",
        "import itertools # Library for efficient looping\n",
        "import numpy as np # Scientific Calculations\n",
        "import pandas as pd # Data Structures\n",
        "import matplotlib.pyplot as plt # Visualizations\n",
        "import seaborn as se # Visualizations\n",
        "from sklearn.linear_model import BayesianRidge\n",
        "from sklearn.model_selection import train_test_split,cross_val_score # Train and Test Split\n",
        "from sklearn.metrics import r2_score, mean_absolute_error, mean_squared_error # Scoring Metrics for Regression\n",
        "warnings.filterwarnings('ignore')"
      ],
      "id": "mdsXIMsKNyQE",
      "execution_count": 4,
      "outputs": []
    },
    {
      "cell_type": "markdown",
      "metadata": {
        "id": "CrkKnw8hdnFJ"
      },
      "source": [
        "### Dataset Description:-\n",
        "The dataset contains 9568 data points collected from a Combined Cycle Power Plant over 6 years (2006-2011), when the power plant was set to work with full load. Features consist of hourly average ambient variables Temperature (T), Ambient Pressure (AP), Relative Humidity (RH) and Exhaust Vacuum (V) to predict the net hourly electrical energy output (EP) of the plant.\n",
        "A combined cycle power plant (CCPP) is composed of gas turbines (GT), steam turbines (ST) and heat recovery steam generators. In a CCPP, the electricity is generated by gas and steam turbines, which are combined in one cycle, and is transferred from one turbine to another. While the Vacuum is colected from and has effect on the Steam Turbine, he other three of the ambient variables effect the GT performance.\n",
        "\n",
        "For comparability with our baseline studies, and to allow 5x2 fold statistical tests be carried out, we provide the data shuffled five times. For each shuffling 2-fold CV is carried out and the resulting 10 measurements are used for statistical testing.\n",
        "\n",
        "They provide the data both in .ods and in .xlsx formats.\n",
        "\n",
        "#### Attribute Information:\n",
        "\n",
        "Features consist of hourly average ambient variables\n",
        "- Temperature (T) in the range 1.81°C and 37.11°C,\n",
        "- Ambient Pressure (AP) in the range 992.89-1033.30 milibar,\n",
        "- Relative Humidity (RH) in the range 25.56% to 100.16%\n",
        "- Exhaust Vacuum (V) in teh range 25.36-81.56 cm Hg\n",
        "- Net hourly electrical energy output (EP) 420.26-495.76 MW\n",
        "The averages are taken from various sensors located around the plant that record the ambient variables every second. The variables are given without normalization."
      ],
      "id": "CrkKnw8hdnFJ"
    },
    {
      "cell_type": "markdown",
      "metadata": {
        "id": "D59naQ0AeKWE"
      },
      "source": [
        "### Dataset Source:-\n",
        "https://archive.ics.uci.edu/ml/datasets/combined+cycle+power+plant"
      ],
      "id": "D59naQ0AeKWE"
    },
    {
      "cell_type": "code",
      "metadata": {
        "id": "swzG-M0aQUJ8",
        "colab": {
          "base_uri": "https://localhost:8080/"
        },
        "outputId": "f74aa64d-093e-4334-b78f-b923a7780e11"
      },
      "source": [
        "!wget 'https://raw.githubusercontent.com/profsarang/ThinkingDataScience/main/data/power.csv'"
      ],
      "id": "swzG-M0aQUJ8",
      "execution_count": 5,
      "outputs": [
        {
          "output_type": "stream",
          "name": "stdout",
          "text": [
            "--2022-09-14 11:51:29--  https://raw.githubusercontent.com/profsarang/ThinkingDataScience/main/data/power.csv\n",
            "Resolving raw.githubusercontent.com (raw.githubusercontent.com)... 185.199.109.133, 185.199.108.133, 185.199.110.133, ...\n",
            "Connecting to raw.githubusercontent.com (raw.githubusercontent.com)|185.199.109.133|:443... connected.\n",
            "HTTP request sent, awaiting response... 200 OK\n",
            "Length: 356371 (348K) [text/plain]\n",
            "Saving to: ‘power.csv’\n",
            "\n",
            "\rpower.csv             0%[                    ]       0  --.-KB/s               \rpower.csv           100%[===================>] 348.02K  --.-KB/s    in 0.01s   \n",
            "\n",
            "2022-09-14 11:51:29 (25.1 MB/s) - ‘power.csv’ saved [356371/356371]\n",
            "\n"
          ]
        }
      ]
    },
    {
      "cell_type": "markdown",
      "metadata": {
        "id": "OG6_G5APPAAU"
      },
      "source": [
        "### Data fetching\n",
        "pandas is an open-source, BSD-licensed library providing high-performance, easy-to-use data manipulation and data analysis tools.\n",
        "\n",
        "We will use panda's library to read the CSV file using its storage path.And we use the head function to display the initial row or entry."
      ],
      "id": "OG6_G5APPAAU"
    },
    {
      "cell_type": "code",
      "metadata": {
        "id": "rrhcSDSwO9Jk",
        "colab": {
          "base_uri": "https://localhost:8080/",
          "height": 206
        },
        "outputId": "d9944357-43df-426e-8cfb-a0dd03839ade"
      },
      "source": [
        "df=pd.read_csv('power.csv');#reading dataset from the specified location\n",
        "df.head()#displaying initial entries"
      ],
      "id": "rrhcSDSwO9Jk",
      "execution_count": 6,
      "outputs": [
        {
          "output_type": "execute_result",
          "data": {
            "text/plain": [
              "   Unnamed: 0     AT      V       AP     RH      PE\n",
              "0           0  14.96  41.76  1024.07  73.17  463.26\n",
              "1           1  25.18  62.96  1020.04  59.08  444.37\n",
              "2           2   5.11  39.40  1012.16  92.14  488.56\n",
              "3           3  20.86  57.32  1010.24  76.64  446.48\n",
              "4           4  10.82  37.50  1009.23  96.62  473.90"
            ],
            "text/html": [
              "\n",
              "  <div id=\"df-677331f1-ddcb-444a-bc34-f3c4c21becb8\">\n",
              "    <div class=\"colab-df-container\">\n",
              "      <div>\n",
              "<style scoped>\n",
              "    .dataframe tbody tr th:only-of-type {\n",
              "        vertical-align: middle;\n",
              "    }\n",
              "\n",
              "    .dataframe tbody tr th {\n",
              "        vertical-align: top;\n",
              "    }\n",
              "\n",
              "    .dataframe thead th {\n",
              "        text-align: right;\n",
              "    }\n",
              "</style>\n",
              "<table border=\"1\" class=\"dataframe\">\n",
              "  <thead>\n",
              "    <tr style=\"text-align: right;\">\n",
              "      <th></th>\n",
              "      <th>Unnamed: 0</th>\n",
              "      <th>AT</th>\n",
              "      <th>V</th>\n",
              "      <th>AP</th>\n",
              "      <th>RH</th>\n",
              "      <th>PE</th>\n",
              "    </tr>\n",
              "  </thead>\n",
              "  <tbody>\n",
              "    <tr>\n",
              "      <th>0</th>\n",
              "      <td>0</td>\n",
              "      <td>14.96</td>\n",
              "      <td>41.76</td>\n",
              "      <td>1024.07</td>\n",
              "      <td>73.17</td>\n",
              "      <td>463.26</td>\n",
              "    </tr>\n",
              "    <tr>\n",
              "      <th>1</th>\n",
              "      <td>1</td>\n",
              "      <td>25.18</td>\n",
              "      <td>62.96</td>\n",
              "      <td>1020.04</td>\n",
              "      <td>59.08</td>\n",
              "      <td>444.37</td>\n",
              "    </tr>\n",
              "    <tr>\n",
              "      <th>2</th>\n",
              "      <td>2</td>\n",
              "      <td>5.11</td>\n",
              "      <td>39.40</td>\n",
              "      <td>1012.16</td>\n",
              "      <td>92.14</td>\n",
              "      <td>488.56</td>\n",
              "    </tr>\n",
              "    <tr>\n",
              "      <th>3</th>\n",
              "      <td>3</td>\n",
              "      <td>20.86</td>\n",
              "      <td>57.32</td>\n",
              "      <td>1010.24</td>\n",
              "      <td>76.64</td>\n",
              "      <td>446.48</td>\n",
              "    </tr>\n",
              "    <tr>\n",
              "      <th>4</th>\n",
              "      <td>4</td>\n",
              "      <td>10.82</td>\n",
              "      <td>37.50</td>\n",
              "      <td>1009.23</td>\n",
              "      <td>96.62</td>\n",
              "      <td>473.90</td>\n",
              "    </tr>\n",
              "  </tbody>\n",
              "</table>\n",
              "</div>\n",
              "      <button class=\"colab-df-convert\" onclick=\"convertToInteractive('df-677331f1-ddcb-444a-bc34-f3c4c21becb8')\"\n",
              "              title=\"Convert this dataframe to an interactive table.\"\n",
              "              style=\"display:none;\">\n",
              "        \n",
              "  <svg xmlns=\"http://www.w3.org/2000/svg\" height=\"24px\"viewBox=\"0 0 24 24\"\n",
              "       width=\"24px\">\n",
              "    <path d=\"M0 0h24v24H0V0z\" fill=\"none\"/>\n",
              "    <path d=\"M18.56 5.44l.94 2.06.94-2.06 2.06-.94-2.06-.94-.94-2.06-.94 2.06-2.06.94zm-11 1L8.5 8.5l.94-2.06 2.06-.94-2.06-.94L8.5 2.5l-.94 2.06-2.06.94zm10 10l.94 2.06.94-2.06 2.06-.94-2.06-.94-.94-2.06-.94 2.06-2.06.94z\"/><path d=\"M17.41 7.96l-1.37-1.37c-.4-.4-.92-.59-1.43-.59-.52 0-1.04.2-1.43.59L10.3 9.45l-7.72 7.72c-.78.78-.78 2.05 0 2.83L4 21.41c.39.39.9.59 1.41.59.51 0 1.02-.2 1.41-.59l7.78-7.78 2.81-2.81c.8-.78.8-2.07 0-2.86zM5.41 20L4 18.59l7.72-7.72 1.47 1.35L5.41 20z\"/>\n",
              "  </svg>\n",
              "      </button>\n",
              "      \n",
              "  <style>\n",
              "    .colab-df-container {\n",
              "      display:flex;\n",
              "      flex-wrap:wrap;\n",
              "      gap: 12px;\n",
              "    }\n",
              "\n",
              "    .colab-df-convert {\n",
              "      background-color: #E8F0FE;\n",
              "      border: none;\n",
              "      border-radius: 50%;\n",
              "      cursor: pointer;\n",
              "      display: none;\n",
              "      fill: #1967D2;\n",
              "      height: 32px;\n",
              "      padding: 0 0 0 0;\n",
              "      width: 32px;\n",
              "    }\n",
              "\n",
              "    .colab-df-convert:hover {\n",
              "      background-color: #E2EBFA;\n",
              "      box-shadow: 0px 1px 2px rgba(60, 64, 67, 0.3), 0px 1px 3px 1px rgba(60, 64, 67, 0.15);\n",
              "      fill: #174EA6;\n",
              "    }\n",
              "\n",
              "    [theme=dark] .colab-df-convert {\n",
              "      background-color: #3B4455;\n",
              "      fill: #D2E3FC;\n",
              "    }\n",
              "\n",
              "    [theme=dark] .colab-df-convert:hover {\n",
              "      background-color: #434B5C;\n",
              "      box-shadow: 0px 1px 3px 1px rgba(0, 0, 0, 0.15);\n",
              "      filter: drop-shadow(0px 1px 2px rgba(0, 0, 0, 0.3));\n",
              "      fill: #FFFFFF;\n",
              "    }\n",
              "  </style>\n",
              "\n",
              "      <script>\n",
              "        const buttonEl =\n",
              "          document.querySelector('#df-677331f1-ddcb-444a-bc34-f3c4c21becb8 button.colab-df-convert');\n",
              "        buttonEl.style.display =\n",
              "          google.colab.kernel.accessAllowed ? 'block' : 'none';\n",
              "\n",
              "        async function convertToInteractive(key) {\n",
              "          const element = document.querySelector('#df-677331f1-ddcb-444a-bc34-f3c4c21becb8');\n",
              "          const dataTable =\n",
              "            await google.colab.kernel.invokeFunction('convertToInteractive',\n",
              "                                                     [key], {});\n",
              "          if (!dataTable) return;\n",
              "\n",
              "          const docLinkHtml = 'Like what you see? Visit the ' +\n",
              "            '<a target=\"_blank\" href=https://colab.research.google.com/notebooks/data_table.ipynb>data table notebook</a>'\n",
              "            + ' to learn more about interactive tables.';\n",
              "          element.innerHTML = '';\n",
              "          dataTable['output_type'] = 'display_data';\n",
              "          await google.colab.output.renderOutput(dataTable, element);\n",
              "          const docLink = document.createElement('div');\n",
              "          docLink.innerHTML = docLinkHtml;\n",
              "          element.appendChild(docLink);\n",
              "        }\n",
              "      </script>\n",
              "    </div>\n",
              "  </div>\n",
              "  "
            ]
          },
          "metadata": {},
          "execution_count": 6
        }
      ]
    },
    {
      "cell_type": "code",
      "metadata": {
        "id": "Pt1lV8CWOJIc"
      },
      "source": [
        "#x_values\n",
        "features=['AT','V','AP','RH']"
      ],
      "id": "Pt1lV8CWOJIc",
      "execution_count": 7,
      "outputs": []
    },
    {
      "cell_type": "code",
      "metadata": {
        "id": "tFlheGBKOL2s"
      },
      "source": [
        "#y_value\n",
        "target='PE'"
      ],
      "id": "tFlheGBKOL2s",
      "execution_count": 8,
      "outputs": []
    },
    {
      "cell_type": "markdown",
      "metadata": {
        "id": "YsUxbXX-OR1U"
      },
      "source": [
        "* Model Tuning Parameters\n",
        "\n",
        ">alpha_1 : shape parameter for the Gamma distribution prior over the alpha parameter.\n",
        "\n",
        "> alpha_2 : inverse scale parameter (rate parameter) for the Gamma distribution prior over the alpha parameter.\n",
        "\n",
        "> lambda_1 : shape parameter for the Gamma distribution prior over the lambda parameter.\n",
        "\n",
        "> lambda_2 : inverse scale parameter (rate parameter) for the Gamma distribution prior over the lambda parameter.\n",
        "\n",
        "* Train and Test Ratio\n",
        "\n",
        "> split_ratio -> This parameter specifies the splitting ratio for training and testing."
      ],
      "id": "YsUxbXX-OR1U"
    },
    {
      "cell_type": "code",
      "metadata": {
        "id": "dejq5kt-O7Al"
      },
      "source": [
        "#parameters\n",
        "Alpha1=0.00006138969568741323\n",
        "Alpha2=12267443.02717635\n",
        "Lambda1=5.936316029785909e-10\n",
        "Lambda2=3075473.158359934"
      ],
      "id": "dejq5kt-O7Al",
      "execution_count": 9,
      "outputs": []
    },
    {
      "cell_type": "markdown",
      "metadata": {
        "id": "GzNYVNI4PDfU"
      },
      "source": [
        "### Feature Selections\n",
        "It is the process of reducing the number of input variables when developing a predictive model. Used to reduce the number of input variables to both reduce the computational cost of modelling and, in some cases, to improve the performance of the model.\n",
        "\n",
        "We will assign all the required input features to X and target/outcome to Y."
      ],
      "id": "GzNYVNI4PDfU"
    },
    {
      "cell_type": "code",
      "metadata": {
        "id": "H9cB9ku4PHvc"
      },
      "source": [
        "X=df[features]\n",
        "Y=df[target]"
      ],
      "id": "H9cB9ku4PHvc",
      "execution_count": 10,
      "outputs": []
    },
    {
      "cell_type": "markdown",
      "metadata": {
        "id": "Qg9UbEUEPfB0"
      },
      "source": [
        "### Data Splitting\n",
        "The train-test split is a procedure for evaluating the performance of an algorithm. The procedure involves taking a dataset and dividing it into two subsets. The first subset is utilized to fit/train the model. The second subset is used for prediction. The main motive is to estimate the performance of the model on new data."
      ],
      "id": "Qg9UbEUEPfB0"
    },
    {
      "cell_type": "code",
      "metadata": {
        "id": "KYiLIDvVPirk"
      },
      "source": [
        "split_ratio=0.20\n",
        "x_train,x_test,y_train,y_test=train_test_split(X,Y,test_size=split_ratio,random_state=123)"
      ],
      "id": "KYiLIDvVPirk",
      "execution_count": 11,
      "outputs": []
    },
    {
      "cell_type": "markdown",
      "metadata": {
        "id": "e7VvKWwQPlST"
      },
      "source": [
        "### Model\n",
        "Bayesian Regression can be very useful when we have insufficient data in the dataset or the data is poorly distributed. The output of a Bayesian Regression model is obtained from a probability distribution, as compared to regular regression techniques where the output is just obtained from a single value of each attribute. Bayesian regression techniques can be used to include regularization parameters in the estimation procedure: the regularization parameter is not set in a hard sense but tuned to the data at hand.\n",
        "\n",
        "If there is a large amount of data available for our dataset, the Bayesian approach is not good for such cases."
      ],
      "id": "e7VvKWwQPlST"
    },
    {
      "cell_type": "code",
      "metadata": {
        "id": "rTHv63FyPp2s",
        "colab": {
          "base_uri": "https://localhost:8080/"
        },
        "outputId": "234e3c9b-c96f-4c40-f3ea-3f2a4bcb5468"
      },
      "source": [
        "model=BayesianRidge(alpha_1=Alpha1,alpha_2=Alpha2,lambda_1=Lambda1,lambda_2=Lambda2)\n",
        "model.fit(x_train,y_train)"
      ],
      "id": "rTHv63FyPp2s",
      "execution_count": 12,
      "outputs": [
        {
          "output_type": "execute_result",
          "data": {
            "text/plain": [
              "BayesianRidge(alpha_1=6.138969568741323e-05, alpha_2=12267443.02717635,\n",
              "              lambda_1=5.936316029785909e-10, lambda_2=3075473.158359934)"
            ]
          },
          "metadata": {},
          "execution_count": 12
        }
      ]
    },
    {
      "cell_type": "markdown",
      "metadata": {
        "id": "Oo2PHuKxPtXv"
      },
      "source": [
        "Model Accuracy\n",
        "We will use the trained model to make a prediction on the test set.Then use the predicted value for measuring the accuracy of our model.\n",
        "> score: The score function returns the coefficient of determination R2 of the prediction."
      ],
      "id": "Oo2PHuKxPtXv"
    },
    {
      "cell_type": "code",
      "metadata": {
        "colab": {
          "base_uri": "https://localhost:8080/"
        },
        "id": "DYziLtF1P9OM",
        "outputId": "435af97c-3507-4614-e85c-d1ac37c8ad56"
      },
      "source": [
        "y_pred=model.predict(x_test)\n",
        "print(\"Accuracy score {:.2f} %\\n\".format(model.score(x_test,y_test)*100))"
      ],
      "id": "DYziLtF1P9OM",
      "execution_count": 13,
      "outputs": [
        {
          "output_type": "stream",
          "name": "stdout",
          "text": [
            "Accuracy score 92.35 %\n",
            "\n"
          ]
        }
      ]
    },
    {
      "cell_type": "markdown",
      "metadata": {
        "id": "TpvGUodAP9yz"
      },
      "source": [
        ">r2_score: The r2_score function computes the percentage variablility explained by our model, either the fraction or the count of correct predictions.\n",
        "\n",
        ">mae: The mean abosolute error function calculates the amount of total error(absolute average distance between the real data and the predicted data) by our model.\n",
        "\n",
        ">mse: The mean squared error function squares the error(penalizes the model for large errors) by our model."
      ],
      "id": "TpvGUodAP9yz"
    },
    {
      "cell_type": "code",
      "metadata": {
        "id": "mr8cP-awQLNE",
        "colab": {
          "base_uri": "https://localhost:8080/"
        },
        "outputId": "d01a6575-6fb3-4cd6-e6fb-7b692a15feb6"
      },
      "source": [
        "print(\"R2 Score: {:.2f} %\".format(r2_score(y_test,y_pred)*100))\n",
        "print(\"Mean Absolute Error {:.2f}\".format(mean_absolute_error(y_test,y_pred)))\n",
        "print(\"Mean Squared Error {:.2f}\".format(mean_squared_error(y_test,y_pred)))"
      ],
      "id": "mr8cP-awQLNE",
      "execution_count": 14,
      "outputs": [
        {
          "output_type": "stream",
          "name": "stdout",
          "text": [
            "R2 Score: 92.35 %\n",
            "Mean Absolute Error 3.74\n",
            "Mean Squared Error 22.13\n"
          ]
        }
      ]
    },
    {
      "cell_type": "markdown",
      "metadata": {
        "id": "29ccafee"
      },
      "source": [
        "## References\n",
        "\n",
        "https://scikit-learn.org/stable/modules/generated/sklearn.metrics.r2_score.html\n",
        "\n",
        "\n"
      ],
      "id": "29ccafee"
    },
    {
      "cell_type": "markdown",
      "metadata": {
        "id": "4K1Top27QNed"
      },
      "source": [
        "### Prediction Plot\n",
        "First, we make use of a plot to plot the actual observations, with x_train on the x-axis and y_train on the y-axis. For the regression line, we will use x_train on the x-axis and then the predictions of the x_train observations on the y-axis."
      ],
      "id": "4K1Top27QNed"
    },
    {
      "cell_type": "code",
      "metadata": {
        "id": "q_7GiJWWQQrM",
        "colab": {
          "base_uri": "https://localhost:8080/",
          "height": 621
        },
        "outputId": "cdb803d0-d66e-42a4-e911-f2d1c5ba54a5"
      },
      "source": [
        "plt.figure(figsize=(14,10))\n",
        "plt.plot(range(20),y_test[0:20], color = \"green\")\n",
        "plt.plot(range(20),model.predict(x_test[0:20]), color = \"red\")\n",
        "plt.legend([\"Actual\",\"prediction\"]) \n",
        "plt.title(\"Predicted vs True Value\")\n",
        "plt.xlabel(\"Record number\")\n",
        "plt.ylabel(target)\n",
        "plt.show()"
      ],
      "id": "q_7GiJWWQQrM",
      "execution_count": 15,
      "outputs": [
        {
          "output_type": "display_data",
          "data": {
            "text/plain": [
              "<Figure size 1008x720 with 1 Axes>"
            ],
            "image/png": "[encoded data removed]"
          },
          "metadata": {
            "needs_background": "light"
          }
        }
      ]
    }
  ]
}